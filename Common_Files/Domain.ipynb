{
 "cells": [
  {
   "cell_type": "markdown",
   "metadata": {},
   "source": [
    "# CFD Domain's Creation & Discretization\n",
    "\n",
    "** The next step for developing the CFD simulation for a case study, after the review of physics and theory behind the problem of interest, is to create the CFD/Computational domain. This CFD domain will first be created and then discretized into small finite elements (2D) or finite volumes (3D). The flow field's governing equations are then solved numerically inside these finite elements or volumes via an iterative process till a converged solution inside the entire CFD domain is obtained. It should be highlighted that this section provides the most generic steps and techniques to create and discretize the CFD domain. Users can implement these steps/techniques in the mesher of their choice or download the pre-generated mesh file from the \"\\Simulation_Src\\\" folder. **\n",
    "    \n",
    "> **_In simple words: Current tutorial teaches users to fish, rather than giving them a fish._**\n",
    "\n",
    "The goal of this study is to simulate the operation of a scaled model horizontal axis Marine Hydrokinetic (MHK) turbine and the flow field around it using 1D momentum model. In 1D momentum model effect of the actual blade rotation is substitute with a finite thin cylindrical volume. This volume has a base area equal to the swapped area of turbine blades. Furthermore, the geometry and effect of the turbine's nacelle is included in this model. Due to the complexity of the flow field's physics from region to region inside this CFD domain, the raw geometry of the CFD domain and its mesh resolution was strictly controlled as visualized in Fig. 1. \n",
    "\n",
    "<img src=\"./Images/flume_modif3.jpg\" width=\"500\">\n",
    "Fig. 1 - The raw geometry of the CFD domain with sub-geometries to control the mesh resolution within the entire domain.\n",
    "\n",
    "From a top-to-bottom prospective the raw geometry of the CFD domain consist of: A long rectangular cube defining the limits of the CFD domain and matching the dimension of the test flume. A long cylinder including the regions upstream, around and downstream the turbine. A finite thin cylinder that defines the turbine rotor zone and at last but not least the geometry of the turbine's nacelle with a cylindrical region around it. The physics of the flow field gets more complicated following this top-to-bottom prospective. Meaning that the mesh of the regions in the flume boundary (i.e. long cube) is coarse, while on the other side of the spectrum the mesh resolution around the turbine's nacelle is very fine.  \n",
    "\n",
    "The meshing (i.e. discretization process) of this CFD domain is implemented in STAR-CCM+ commercial package. Since all the sub-geometries have a structured shape, the **Trimmed** mesh algorithm is used to mesh all of the regions. The approach to generate the mesh is to define a **Base Size** element with **X [m]** for the test flume (i.e. long cube) geometry and define a **Relative Size** mesh element size for the other sub-regions. The chosen **Relative Size** for the long cylinder around turbine and finite cylinder as the rotor zone are **Y [m]** and **Z [m]** respectively.\n",
    "\n",
    "Turbine's nacelle geometry was imported and placed into the CFD domain using a previously created model in SolidWorks for the scaled model turbine. As mentioned earlier to control the mesh resolution around the nacelle and create a very fine mesh (prism layer mesh) to capture the characteristics of the generated turbulent boundary layer at the walls of the nacelle in this region a cylindrical region is created around the imported geometry of the nacelle as visualized in Fig. 2. Fig. 2 visualizes a horizontal cut of the created structured mesh of the CFD domain and highlights the difference between the defined mesh resolution at different sub-geometry of the CFD domain.\n",
    "\n",
    "<img src=\"./Images/zoom_out.PNG\" width=\"500\">\n",
    "Fig. 2 - A horizontal cut across the meshed CFD domain. This highlights the difference between the defined mesh resolution at different sub-geometry of the CFD domain.\n",
    "\n",
    "The **Prism Layer** mesh algorithm is used to fill this cylindrical region around the nacelle with mesh elements. This algorithm is available via **geometry/Operation/Automated mesh** path and enabling the **Prism Layer** option. In this option the default values $\\epsilon=9.0$ and $\\kappa= 0.42$ were remained unchanged. However, the prism layer thickness (i.e. first length) was estimated according to the presented theory at Physics section to be equal to **0.1 [mm]** and **10** prism layer is placed in this region. Fig. 3 visualizes a zoom-in view of the generated mesh using **Prism Layer** algorithm with the above-stated setting.\n",
    "\n",
    "<img src=\"./Images/prism.PNG\" width=\"300\">\n",
    "Fig. 3 - Zoom-in view of the the generated prism layer mesh around nacelle wall with no-slip boundary condition.\n",
    "\n",
    "It should be highlighted that the above-stated mesh settings and mesh element sizes are obtained through detail mesh convergence study and detail theoretical calculation; The mesh resolution around and in the wake of the rotor zone (i.e. inside the long cylinder region) was examined by placing a second turbine downstream the first turbine and check its power output against the experimental data. The validity of mesh resolution around the nacelle was examined by checking the range of $Y^+$ values at this boundary for the used wall function model as will be discussed in the post processing section later. "
   ]
  },
  {
   "cell_type": "code",
   "execution_count": null,
   "metadata": {
    "collapsed": true
   },
   "outputs": [],
   "source": []
  }
 ],
 "metadata": {
  "kernelspec": {
   "display_name": "Python 3",
   "language": "python",
   "name": "python3"
  },
  "language_info": {
   "codemirror_mode": {
    "name": "ipython",
    "version": 3
   },
   "file_extension": ".py",
   "mimetype": "text/x-python",
   "name": "python",
   "nbconvert_exporter": "python",
   "pygments_lexer": "ipython3",
   "version": "3.6.0b1"
  }
 },
 "nbformat": 4,
 "nbformat_minor": 0
}
